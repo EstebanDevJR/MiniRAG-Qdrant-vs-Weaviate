{
  "cells": [
    {
      "cell_type": "markdown",
      "metadata": {
        "id": "C79KKN3pOavn"
      },
      "source": [
        "# Mini-RAG: Comparación Qdrant vs Weaviate\n",
        "\n",
        "Este notebook implementa y compara dos sistemas Mini-RAG usando:\n",
        "- **Qdrant** como base de datos vectorial\n",
        "- **Weaviate** como base de datos vectorial\n",
        "- **FLAN-T5-small** como modelo de lenguaje para generación\n",
        "- **all-MiniLM-L6-v2** para embeddings\n",
        "\n",
        "## Objetivos\n",
        "1. Construir Mini-RAG con ambas bases vectoriales\n",
        "2. Evaluar con métricas P@k, R@k y nDCG@k\n",
        "3. Comparar rendimiento, latencia y facilidad de uso\n",
        "4. Implementar filtrado por metadatos y consultas híbridas\n"
      ]
    },
    {
      "cell_type": "code",
      "execution_count": 1,
      "metadata": {
        "id": "y3fJFwxqOavp"
      },
      "outputs": [],
      "source": [
        "# Instalación de dependencias\n",
        "!pip install -q qdrant-client weaviate-client sentence-transformers transformers accelerate pandas numpy scikit-learn tqdm rich\n"
      ]
    },
    {
      "cell_type": "code",
      "execution_count": 2,
      "metadata": {
        "colab": {
          "base_uri": "https://localhost:8080/"
        },
        "id": "DLrYzrjLOavp",
        "outputId": "a12a4462-d12f-4599-bb1b-a3fdb881bdc2"
      },
      "outputs": [
        {
          "output_type": "stream",
          "name": "stdout",
          "text": [
            "✅ Dependencias importadas correctamente\n"
          ]
        }
      ],
      "source": [
        "# Imports necesarios\n",
        "import time\n",
        "import json\n",
        "import numpy as np\n",
        "import pandas as pd\n",
        "from typing import List, Dict, Any, Optional, Tuple\n",
        "from datetime import datetime\n",
        "import warnings\n",
        "warnings.filterwarnings('ignore')\n",
        "\n",
        "# Modelos y embeddings\n",
        "from sentence_transformers import SentenceTransformer\n",
        "from transformers import AutoTokenizer, AutoModelForSeq2SeqLM\n",
        "\n",
        "# Bases de datos vectoriales\n",
        "from qdrant_client import QdrantClient\n",
        "from qdrant_client.http import models as qdrant_models\n",
        "import weaviate\n",
        "from weaviate.classes.config import Configure\n",
        "\n",
        "# Métricas\n",
        "from sklearn.metrics import ndcg_score\n",
        "from sklearn.preprocessing import normalize\n",
        "\n",
        "# Visualización\n",
        "from tqdm import tqdm\n",
        "from rich import print as rprint\n",
        "from rich.table import Table\n",
        "from rich.console import Console\n",
        "\n",
        "console = Console()\n",
        "print(\"✅ Dependencias importadas correctamente\")\n"
      ]
    },
    {
      "cell_type": "markdown",
      "metadata": {
        "id": "iip5yho4Oavq"
      },
      "source": [
        "## 1. Configuración de Modelos\n"
      ]
    },
    {
      "cell_type": "code",
      "execution_count": 3,
      "metadata": {
        "colab": {
          "base_uri": "https://localhost:8080/"
        },
        "id": "Z8XDVg1hOavq",
        "outputId": "db1a00be-2cb4-4704-eda4-d9024c6d657f"
      },
      "outputs": [
        {
          "output_type": "stream",
          "name": "stdout",
          "text": [
            "🔄 Cargando modelos (esto puede tardar unos minutos)...\n",
            "✅ Modelos cargados:\n",
            "   - Embeddings: sentence-transformers/all-MiniLM-L6-v2 (dim=384)\n",
            "   - Generación: google/flan-t5-small\n"
          ]
        }
      ],
      "source": [
        "# Configuración de modelos\n",
        "EMBED_MODEL_NAME = 'sentence-transformers/all-MiniLM-L6-v2'\n",
        "GEN_MODEL_NAME = 'google/flan-t5-small'\n",
        "\n",
        "print('🔄 Cargando modelos (esto puede tardar unos minutos)...')\n",
        "\n",
        "# Modelo de embeddings\n",
        "embedder = SentenceTransformer(EMBED_MODEL_NAME)\n",
        "embed_dim = embedder.get_sentence_embedding_dimension()\n",
        "\n",
        "# Modelo de generación\n",
        "tokenizer = AutoTokenizer.from_pretrained(GEN_MODEL_NAME)\n",
        "gen_model = AutoModelForSeq2SeqLM.from_pretrained(GEN_MODEL_NAME)\n",
        "\n",
        "print(f'✅ Modelos cargados:')\n",
        "print(f'   - Embeddings: {EMBED_MODEL_NAME} (dim={embed_dim})')\n",
        "print(f'   - Generación: {GEN_MODEL_NAME}')\n"
      ]
    },
    {
      "cell_type": "markdown",
      "metadata": {
        "id": "hTKoq-ybOavq"
      },
      "source": [
        "## 2. Corpus de Documentos (30 documentos con metadatos)\n"
      ]
    },
    {
      "cell_type": "code",
      "execution_count": 4,
      "metadata": {
        "colab": {
          "base_uri": "https://localhost:8080/"
        },
        "id": "lKXV_9s0Oavq",
        "outputId": "6d4c274d-e62a-4764-9544-fa908a2ad63a"
      },
      "outputs": [
        {
          "output_type": "stream",
          "name": "stdout",
          "text": [
            "✅ Corpus creado con 30 documentos\n",
            "📊 Categorías: 12\n",
            "📅 Rango de fechas: 2023-03-30 - 2025-08-10\n"
          ]
        }
      ],
      "source": [
        "# Corpus de 30 documentos con metadatos completos\n",
        "docs = [\n",
        "    {\"id\": 1, \"title\": \"Inteligencia Artificial en Medicina\", \"text\": \"La IA se aplica en diagnóstico por imágenes, análisis de genomas y detección temprana de enfermedades. Los algoritmos de aprendizaje automático pueden identificar patrones en radiografías, resonancias magnéticas y tomografías computarizadas.\", \"source\": \"Revista Salud Digital\", \"date\": \"2024-06-12\", \"category\": \"medicina\"},\n",
        "    {\"id\": 2, \"title\": \"Historia de la imprenta\", \"text\": \"La imprenta de Gutenberg revolucionó la difusión del conocimiento en Europa desde el siglo XV. Esta innovación permitió la producción masiva de libros y democratizó el acceso a la información.\", \"source\": \"Enciclopedia Histórica\", \"date\": \"2023-11-03\", \"category\": \"historia\"},\n",
        "    {\"id\": 3, \"title\": \"Beneficios del té verde\", \"text\": \"Contiene antioxidantes como catequinas que ayudan a reducir el estrés oxidativo y mejorar la salud cardiovascular. Estudios demuestran que el consumo regular puede reducir el riesgo de enfermedades cardíacas.\", \"source\": \"Portal Nutrición y Vida\", \"date\": \"2025-01-15\", \"category\": \"salud\"},\n",
        "    {\"id\": 4, \"title\": \"Energía solar: ventajas y retos\", \"text\": \"Es renovable y limpia, pero depende del clima y requiere almacenamiento eficiente. Los paneles solares han reducido significativamente su costo en la última década.\", \"source\": \"Energías del Futuro\", \"date\": \"2025-04-20\", \"category\": \"energia\"},\n",
        "    {\"id\": 5, \"title\": \"Resumen de la teoría de la relatividad\", \"text\": \"Einstein propuso que el espacio-tiempo es curvo y que la gravedad es una manifestación de esa curvatura. Esta teoría revolucionó nuestra comprensión del universo y llevó a predicciones como la existencia de agujeros negros.\", \"source\": \"Física Moderna Hoy\", \"date\": \"2024-08-05\", \"category\": \"fisica\"},\n",
        "    {\"id\": 6, \"title\": \"¿Qué es el efecto placebo?\", \"text\": \"Una mejora en la salud causada por la creencia del paciente en un tratamiento sin efecto real. Este fenómeno demuestra la poderosa conexión entre mente y cuerpo en los procesos de curación.\", \"source\": \"Psicología Clínica\", \"date\": \"2023-12-01\", \"category\": \"medicina\"},\n",
        "    {\"id\": 7, \"title\": \"Las capas de la atmósfera\", \"text\": \"Troposfera, estratósfera, mesosfera, termosfera y exosfera tienen distintas funciones y altitudes. Cada capa tiene características específicas de temperatura, presión y composición química.\", \"source\": \"Clima y Ciencia\", \"date\": \"2024-03-30\", \"category\": \"ciencia\"},\n",
        "    {\"id\": 8, \"title\": \"Qué es el blockchain\", \"text\": \"Es una base de datos distribuida y segura que registra transacciones de forma inmutable. Esta tecnología es la base de las criptomonedas y tiene aplicaciones en contratos inteligentes y trazabilidad.\", \"source\": \"Tech Diario\", \"date\": \"2025-06-01\", \"category\": \"tecnologia\"},\n",
        "    {\"id\": 9, \"title\": \"La fotosíntesis explicada\", \"text\": \"Proceso por el cual las plantas convierten CO₂ y luz solar en oxígeno y glucosa. Este proceso es fundamental para la vida en la Tierra ya que produce el oxígeno que respiramos.\", \"source\": \"Biología Básica\", \"date\": \"2023-10-21\", \"category\": \"biologia\"},\n",
        "    {\"id\": 10, \"title\": \"Importancia de la lectura en la infancia\", \"text\": \"Fomenta el desarrollo del lenguaje, la empatía y la capacidad de concentración. Los niños que leen regularmente desarrollan mejor vocabulario y habilidades de comprensión.\", \"source\": \"Educación Hoy\", \"date\": \"2024-05-19\", \"category\": \"educacion\"},\n",
        "    {\"id\": 11, \"title\": \"Qué es el cambio climático\", \"text\": \"Se refiere al aumento sostenido de la temperatura global y sus efectos en el planeta. Las actividades humanas, especialmente la quema de combustibles fósiles, son la principal causa.\", \"source\": \"Observatorio Climático\", \"date\": \"2025-02-14\", \"category\": \"ambiente\"},\n",
        "    {\"id\": 12, \"title\": \"Origen del universo: Big Bang\", \"text\": \"El modelo del Big Bang plantea una expansión desde un estado extremadamente denso y caliente. Esta teoría explica la formación de elementos ligeros y la radiación cósmica de fondo.\", \"source\": \"Astrofísica para Todos\", \"date\": \"2024-07-07\", \"category\": \"fisica\"},\n",
        "    {\"id\": 13, \"title\": \"Cómo funciona un motor eléctrico\", \"text\": \"Convierte energía eléctrica en energía mecánica mediante fuerzas electromagnéticas. Los motores eléctricos son más eficientes que los de combustión interna.\", \"source\": \"Ingeniería 101\", \"date\": \"2024-09-11\", \"category\": \"tecnologia\"},\n",
        "    {\"id\": 14, \"title\": \"El Renacimiento en Europa\", \"text\": \"Movimiento cultural que valoró la razón, el arte y la ciencia, con figuras como Da Vinci o Galileo. Este período marcó la transición de la Edad Media a la Edad Moderna.\", \"source\": \"Arte e Historia\", \"date\": \"2023-04-03\", \"category\": \"historia\"},\n",
        "    {\"id\": 15, \"title\": \"Python vs JavaScript\", \"text\": \"Python destaca en ciencia de datos, mientras que JavaScript domina en desarrollo web. Ambos lenguajes tienen ecosistemas ricos y comunidades activas.\", \"source\": \"Blog Código Abierto\", \"date\": \"2025-08-10\", \"category\": \"tecnologia\"},\n",
        "    {\"id\": 16, \"title\": \"Qué es el CO₂ y por qué importa\", \"text\": \"Es un gas de efecto invernadero cuya acumulación intensifica el calentamiento global. La concentración atmosférica de CO₂ ha aumentado significativamente desde la revolución industrial.\", \"source\": \"EcoMundo\", \"date\": \"2025-03-22\", \"category\": \"ambiente\"},\n",
        "    {\"id\": 17, \"title\": \"Neuroplasticidad: el cerebro que cambia\", \"text\": \"El cerebro puede reorganizarse y formar nuevas conexiones en respuesta al aprendizaje. Esta capacidad se mantiene durante toda la vida, aunque disminuye con la edad.\", \"source\": \"Revista Mente Abierta\", \"date\": \"2024-02-28\", \"category\": \"medicina\"},\n",
        "    {\"id\": 18, \"title\": \"Aportes de Marie Curie\", \"text\": \"Pionera en radioactividad, fue la primera persona en recibir dos premios Nobel. Sus investigaciones abrieron el camino para la medicina nuclear y la física atómica.\", \"source\": \"Científicas que hicieron historia\", \"date\": \"2023-08-10\", \"category\": \"historia\"},\n",
        "    {\"id\": 19, \"title\": \"Cómo usar una brújula\", \"text\": \"Una brújula señala el norte magnético y ayuda en la orientación geográfica. Es una herramienta fundamental para la navegación terrestre y marítima.\", \"source\": \"Manual de Supervivencia\", \"date\": \"2024-01-05\", \"category\": \"supervivencia\"},\n",
        "    {\"id\": 20, \"title\": \"Qué es una VPN y cómo protege tu privacidad\", \"text\": \"Una VPN cifra tu conexión, ocultando tu IP y actividad en línea. Es especialmente útil cuando se conecta a redes WiFi públicas.\", \"source\": \"Seguridad Digital Hoy\", \"date\": \"2025-05-01\", \"category\": \"tecnologia\"},\n",
        "    {\"id\": 21, \"title\": \"Alimentos ricos en fibra\", \"text\": \"Legumbres, frutas, cereales integrales y semillas favorecen la digestión y la salud intestinal. Una dieta rica en fibra puede prevenir enfermedades cardiovasculares.\", \"source\": \"Guía Nutricional\", \"date\": \"2024-11-09\", \"category\": \"salud\"},\n",
        "    {\"id\": 22, \"title\": \"Fases de la Luna\", \"text\": \"Incluyen luna nueva, cuarto creciente, luna llena y cuarto menguante, en un ciclo de ~29 días. Estas fases han sido utilizadas por civilizaciones para medir el tiempo.\", \"source\": \"Astronomía Básica\", \"date\": \"2023-09-12\", \"category\": \"ciencia\"},\n",
        "    {\"id\": 23, \"title\": \"¿Qué es el machine learning?\", \"text\": \"Es una rama de la IA donde los algoritmos aprenden patrones a partir de datos. Se aplica en reconocimiento de imágenes, procesamiento de lenguaje natural y sistemas de recomendación.\", \"source\": \"Aprendizaje Automático Hoy\", \"date\": \"2025-07-17\", \"category\": \"tecnologia\"},\n",
        "    {\"id\": 24, \"title\": \"El alfabeto griego\", \"text\": \"Usado en matemáticas y ciencia, contiene letras como alfa, beta, gamma y delta. Muchas constantes y variables científicas utilizan letras griegas.\", \"source\": \"Lenguas Antiguas\", \"date\": \"2023-03-30\", \"category\": \"educacion\"},\n",
        "    {\"id\": 25, \"title\": \"Cómo se forma un arcoíris\", \"text\": \"La luz solar se refracta y refleja dentro de gotas de agua, separando colores por longitud de onda. Este fenómeno óptico requiere sol y lluvia simultáneamente.\", \"source\": \"Física Natural\", \"date\": \"2024-04-15\", \"category\": \"fisica\"},\n",
        "    {\"id\": 26, \"title\": \"Importancia de los polinizadores\", \"text\": \"Abejas, mariposas y aves ayudan en la reproducción de plantas y producción de alimentos. Sin polinizadores, muchos cultivos no podrían reproducirse.\", \"source\": \"Biodiversidad Global\", \"date\": \"2025-03-10\", \"category\": \"biologia\"},\n",
        "    {\"id\": 27, \"title\": \"Ventajas del ejercicio regular\", \"text\": \"Reduce el riesgo de enfermedades, mejora el estado de ánimo y fortalece el sistema inmune. La OMS recomienda al menos 150 minutos de ejercicio moderado por semana.\", \"source\": \"Salud Activa\", \"date\": \"2024-12-18\", \"category\": \"salud\"},\n",
        "    {\"id\": 28, \"title\": \"¿Qué es una estrella fugaz?\", \"text\": \"Es un meteoro que arde al entrar en la atmósfera terrestre, creando un brillo breve. La mayoría son partículas de polvo cósmico del tamaño de granos de arena.\", \"source\": \"Curiosidades del Espacio\", \"date\": \"2023-06-06\", \"category\": \"ciencia\"},\n",
        "    {\"id\": 29, \"title\": \"Células madre: usos médicos\", \"text\": \"Las células madre pueden regenerar tejidos, tratar enfermedades como leucemia y formar la base de terapias regenerativas. Representan una esperanza para tratar enfermedades degenerativas.\", \"source\": \"Medicina del Futuro\", \"date\": \"2024-10-02\", \"category\": \"medicina\"},\n",
        "    {\"id\": 30, \"title\": \"¿Qué es la economía circular?\", \"text\": \"Es un modelo económico que busca reducir residuos reutilizando, reciclando y prolongando la vida de los productos. Contrasta con el modelo lineal de 'usar y tirar'.\", \"source\": \"Economía Sostenible\", \"date\": \"2025-08-01\", \"category\": \"economia\"}\n",
        "]\n",
        "\n",
        "print(f\"✅ Corpus creado con {len(docs)} documentos\")\n",
        "print(f\"📊 Categorías: {len(set(d['category'] for d in docs))}\")\n",
        "print(f\"📅 Rango de fechas: {min(d['date'] for d in docs)} - {max(d['date'] for d in docs)}\")\n"
      ]
    },
    {
      "cell_type": "markdown",
      "metadata": {
        "id": "omMInxt7Oavr"
      },
      "source": [
        "## 3. Funciones Auxiliares\n"
      ]
    },
    {
      "cell_type": "code",
      "execution_count": 5,
      "metadata": {
        "colab": {
          "base_uri": "https://localhost:8080/"
        },
        "id": "GZvBqYm_Oavr",
        "outputId": "7c7a31d9-1ab6-4f9c-aa76-886a24482ecd"
      },
      "outputs": [
        {
          "output_type": "stream",
          "name": "stdout",
          "text": [
            "✅ Funciones auxiliares definidas\n"
          ]
        }
      ],
      "source": [
        "def embed_texts(texts: List[str]) -> np.ndarray:\n",
        "    \"\"\"Genera embeddings para una lista de textos\"\"\"\n",
        "    vecs = embedder.encode(texts, show_progress_bar=False, convert_to_numpy=True)\n",
        "    return normalize(vecs)\n",
        "\n",
        "def generate_answer(prompt: str, max_length: int = 128) -> str:\n",
        "    \"\"\"Genera respuesta usando FLAN-T5\"\"\"\n",
        "    inputs = tokenizer(prompt, return_tensors='pt', truncation=True, max_length=512)\n",
        "    outputs = gen_model.generate(**inputs, max_length=max_length, do_sample=False)\n",
        "    return tokenizer.decode(outputs[0], skip_special_tokens=True)\n",
        "\n",
        "def chunk_text(text: str, max_tokens: int = 90) -> List[str]:\n",
        "    \"\"\"Divide texto en chunks por palabras\"\"\"\n",
        "    words = text.split()\n",
        "    chunks = []\n",
        "    for i in range(0, len(words), max_tokens):\n",
        "        chunk = \" \".join(words[i:i+max_tokens])\n",
        "        if chunk.strip():\n",
        "            chunks.append(chunk)\n",
        "    return chunks\n",
        "\n",
        "print(\"✅ Funciones auxiliares definidas\")\n"
      ]
    },
    {
      "cell_type": "markdown",
      "metadata": {
        "id": "tzVyjrrvOavr"
      },
      "source": [
        "## 4. Preguntas de Prueba con Ground Truth\n"
      ]
    },
    {
      "cell_type": "code",
      "execution_count": 6,
      "metadata": {
        "colab": {
          "base_uri": "https://localhost:8080/"
        },
        "id": "ru5waz6eOavr",
        "outputId": "939e1662-2a66-4f42-dd97-7e454a79aafe"
      },
      "outputs": [
        {
          "output_type": "stream",
          "name": "stdout",
          "text": [
            "✅ 10 preguntas de prueba definidas\n",
            "📝 Categorías cubiertas: {'ambiente', 'economia', 'biologia', 'ciencia', 'fisica', 'salud', 'medicina', 'tecnologia'}\n"
          ]
        }
      ],
      "source": [
        "# 10 preguntas de prueba con documentos relevantes identificados\n",
        "test_queries = [\n",
        "    {\n",
        "        \"question\": \"¿En qué áreas de la medicina se usa la inteligencia artificial?\",\n",
        "        \"relevant_docs\": [1],  # Inteligencia Artificial en Medicina\n",
        "        \"category\": \"medicina\"\n",
        "    },\n",
        "    {\n",
        "        \"question\": \"¿Cuál es la función principal de la fotosíntesis?\",\n",
        "        \"relevant_docs\": [9],  # La fotosíntesis explicada\n",
        "        \"category\": \"biologia\"\n",
        "    },\n",
        "    {\n",
        "        \"question\": \"¿Qué propone la teoría del Big Bang sobre el origen del universo?\",\n",
        "        \"relevant_docs\": [12],  # Origen del universo: Big Bang\n",
        "        \"category\": \"fisica\"\n",
        "    },\n",
        "    {\n",
        "        \"question\": \"¿Cuáles son las capas de la atmósfera terrestre?\",\n",
        "        \"relevant_docs\": [7],  # Las capas de la atmósfera\n",
        "        \"category\": \"ciencia\"\n",
        "    },\n",
        "    {\n",
        "        \"question\": \"¿Qué es una VPN y cómo protege la privacidad?\",\n",
        "        \"relevant_docs\": [20],  # Qué es una VPN y cómo protege tu privacidad\n",
        "        \"category\": \"tecnologia\"\n",
        "    },\n",
        "    {\n",
        "        \"question\": \"¿Cuáles son los beneficios del té verde para la salud?\",\n",
        "        \"relevant_docs\": [3],  # Beneficios del té verde\n",
        "        \"category\": \"salud\"\n",
        "    },\n",
        "    {\n",
        "        \"question\": \"¿Para qué se utilizan las células madre en medicina?\",\n",
        "        \"relevant_docs\": [29],  # Células madre: usos médicos\n",
        "        \"category\": \"medicina\"\n",
        "    },\n",
        "    {\n",
        "        \"question\": \"¿Qué es el efecto placebo y cómo funciona?\",\n",
        "        \"relevant_docs\": [6],  # ¿Qué es el efecto placebo?\n",
        "        \"category\": \"medicina\"\n",
        "    },\n",
        "    {\n",
        "        \"question\": \"¿Cómo afecta el CO₂ al cambio climático?\",\n",
        "        \"relevant_docs\": [16, 11],  # CO₂ y cambio climático\n",
        "        \"category\": \"ambiente\"\n",
        "    },\n",
        "    {\n",
        "        \"question\": \"¿Qué es la economía circular y cómo funciona?\",\n",
        "        \"relevant_docs\": [30],  # ¿Qué es la economía circular?\n",
        "        \"category\": \"economia\"\n",
        "    }\n",
        "]\n",
        "\n",
        "print(f\"✅ {len(test_queries)} preguntas de prueba definidas\")\n",
        "print(f\"📝 Categorías cubiertas: {set(q['category'] for q in test_queries)}\")\n"
      ]
    },
    {
      "cell_type": "markdown",
      "metadata": {
        "id": "u5b0lxOsOavs"
      },
      "source": [
        "## 5. Métricas de Evaluación\n"
      ]
    },
    {
      "cell_type": "code",
      "execution_count": 7,
      "metadata": {
        "colab": {
          "base_uri": "https://localhost:8080/"
        },
        "id": "MusU0GYgOavs",
        "outputId": "ba9d06ba-d630-4141-a1f4-5fed38ea90e5"
      },
      "outputs": [
        {
          "output_type": "stream",
          "name": "stdout",
          "text": [
            "✅ Métricas de evaluación implementadas\n"
          ]
        }
      ],
      "source": [
        "def precision_at_k(retrieved_ids: List[int], relevant_ids: List[int], k: int) -> float:\n",
        "    \"\"\"Calcula Precision@k\"\"\"\n",
        "    retrieved_k = retrieved_ids[:k]\n",
        "    relevant_retrieved = sum(1 for doc_id in retrieved_k if doc_id in relevant_ids)\n",
        "    return relevant_retrieved / k if k > 0 else 0.0\n",
        "\n",
        "def recall_at_k(retrieved_ids: List[int], relevant_ids: List[int], k: int) -> float:\n",
        "    \"\"\"Calcula Recall@k\"\"\"\n",
        "    retrieved_k = retrieved_ids[:k]\n",
        "    relevant_retrieved = sum(1 for doc_id in retrieved_k if doc_id in relevant_ids)\n",
        "    return relevant_retrieved / len(relevant_ids) if len(relevant_ids) > 0 else 0.0\n",
        "\n",
        "def ndcg_at_k(retrieved_ids: List[int], relevant_ids: List[int], k: int) -> float:\n",
        "    \"\"\"Calcula nDCG@k usando relevancia binaria\"\"\"\n",
        "    retrieved_k = retrieved_ids[:k]\n",
        "\n",
        "    # Calcular DCG\n",
        "    dcg = 0.0\n",
        "    for i, doc_id in enumerate(retrieved_k):\n",
        "        if doc_id in relevant_ids:\n",
        "            dcg += 1.0 / np.log2(i + 2)  # +2 porque log2(1) = 0\n",
        "\n",
        "    # Calcular IDCG (mejor ordenamiento posible)\n",
        "    idcg = 0.0\n",
        "    for i in range(min(len(relevant_ids), k)):\n",
        "        idcg += 1.0 / np.log2(i + 2)\n",
        "\n",
        "    return dcg / idcg if idcg > 0 else 0.0\n",
        "\n",
        "print(\"✅ Métricas de evaluación implementadas\")\n"
      ]
    },
    {
      "cell_type": "markdown",
      "metadata": {
        "id": "xfAG74c3Oavs"
      },
      "source": [
        "## 6. Implementación Mini-RAG con Qdrant\n"
      ]
    },
    {
      "cell_type": "code",
      "execution_count": 8,
      "metadata": {
        "colab": {
          "base_uri": "https://localhost:8080/"
        },
        "id": "oDTC4K37Oavs",
        "outputId": "eefd76e6-62ae-4a71-be95-86899e26f061"
      },
      "outputs": [
        {
          "output_type": "stream",
          "name": "stdout",
          "text": [
            "✅ Qdrant configurado: colección 'mini_rag_docs' creada\n"
          ]
        }
      ],
      "source": [
        "# Configurar cliente Qdrant (modo embebido)\n",
        "DB_PATH = \"/tmp/qdrant_db\"\n",
        "qdrant_client = QdrantClient(path=DB_PATH)\n",
        "QDRANT_COLLECTION = \"mini_rag_docs\"\n",
        "\n",
        "# Recrear colección\n",
        "try:\n",
        "    qdrant_client.delete_collection(QDRANT_COLLECTION)\n",
        "except:\n",
        "    pass\n",
        "\n",
        "qdrant_client.create_collection(\n",
        "    collection_name=QDRANT_COLLECTION,\n",
        "    vectors_config=qdrant_models.VectorParams(\n",
        "        size=embed_dim,\n",
        "        distance=qdrant_models.Distance.COSINE\n",
        "    )\n",
        ")\n",
        "\n",
        "print(f\"✅ Qdrant configurado: colección '{QDRANT_COLLECTION}' creada\")\n"
      ]
    },
    {
      "cell_type": "code",
      "execution_count": 9,
      "metadata": {
        "colab": {
          "base_uri": "https://localhost:8080/"
        },
        "id": "TqqFbosaOavs",
        "outputId": "84557ef7-0166-42fb-efbb-e2e1157d150b"
      },
      "outputs": [
        {
          "output_type": "stream",
          "name": "stderr",
          "text": [
            "Indexando en Qdrant: 100%|██████████| 30/30 [00:00<00:00, 47.53it/s]\n"
          ]
        },
        {
          "output_type": "stream",
          "name": "stdout",
          "text": [
            "✅ 30 documentos indexados en Qdrant\n"
          ]
        }
      ],
      "source": [
        "# Indexar documentos en Qdrant\n",
        "points = []\n",
        "point_id = 1\n",
        "\n",
        "for doc in tqdm(docs, desc=\"Indexando en Qdrant\"):\n",
        "    # Crear contenido completo\n",
        "    full_text = f\"{doc['title']}. {doc['text']}\"\n",
        "\n",
        "    # Generar embedding\n",
        "    embedding = embedder.encode(full_text, normalize_embeddings=True)\n",
        "\n",
        "    # Crear punto\n",
        "    point = qdrant_models.PointStruct(\n",
        "        id=point_id,\n",
        "        vector=embedding.tolist(),\n",
        "        payload={\n",
        "            \"doc_id\": doc[\"id\"],\n",
        "            \"title\": doc[\"title\"],\n",
        "            \"text\": doc[\"text\"],\n",
        "            \"source\": doc[\"source\"],\n",
        "            \"date\": doc[\"date\"],\n",
        "            \"category\": doc[\"category\"],\n",
        "            \"full_text\": full_text\n",
        "        }\n",
        "    )\n",
        "    points.append(point)\n",
        "    point_id += 1\n",
        "\n",
        "# Insertar todos los puntos\n",
        "qdrant_client.upsert(collection_name=QDRANT_COLLECTION, points=points)\n",
        "\n",
        "# Verificar inserción\n",
        "count = qdrant_client.count(collection_name=QDRANT_COLLECTION).count\n",
        "print(f\"✅ {count} documentos indexados en Qdrant\")\n"
      ]
    },
    {
      "cell_type": "markdown",
      "metadata": {
        "id": "dwzhGVZrOavs"
      },
      "source": [
        "## 7. Implementación Mini-RAG con Weaviate (Simulado)\n"
      ]
    },
    {
      "cell_type": "code",
      "execution_count": 10,
      "metadata": {
        "colab": {
          "base_uri": "https://localhost:8080/"
        },
        "id": "jQsEF_HiOavs",
        "outputId": "b8739cb8-abed-4461-a430-8381661021aa"
      },
      "outputs": [
        {
          "output_type": "stream",
          "name": "stderr",
          "text": [
            "Indexando en Weaviate: 100%|██████████| 30/30 [00:00<00:00, 32.52it/s]"
          ]
        },
        {
          "output_type": "stream",
          "name": "stdout",
          "text": [
            "✅ 30 documentos indexados en Weaviate (simulado)\n"
          ]
        },
        {
          "output_type": "stream",
          "name": "stderr",
          "text": [
            "\n"
          ]
        }
      ],
      "source": [
        "# Implementación simulada de Weaviate para comparación\n",
        "class MockWeaviate:\n",
        "    def __init__(self):\n",
        "        self.vectors = None\n",
        "        self.documents = []\n",
        "        self.embeddings = []\n",
        "\n",
        "    def add_documents(self, docs, embeddings):\n",
        "        self.documents = docs\n",
        "        self.embeddings = np.array(embeddings)\n",
        "        print(f\"✅ {len(docs)} documentos indexados en Weaviate (simulado)\")\n",
        "\n",
        "    def search(self, query_vector, k=5, filters=None):\n",
        "        \"\"\"Búsqueda por similitud coseno con filtros opcionales\"\"\"\n",
        "        similarities = np.dot(self.embeddings, query_vector.reshape(-1, 1)).flatten()\n",
        "\n",
        "        # Aplicar filtros si existen\n",
        "        valid_indices = np.arange(len(self.documents))\n",
        "        if filters:\n",
        "            mask = np.ones(len(self.documents), dtype=bool)\n",
        "            for key, value in filters.items():\n",
        "                if isinstance(value, tuple) and len(value) == 2:  # Rango de fechas\n",
        "                    dates = [doc[key] for doc in self.documents]\n",
        "                    mask &= np.array([(d >= value[0] and d <= value[1]) for d in dates])\n",
        "                else:  # Igualdad exacta\n",
        "                    values = [doc.get(key) for doc in self.documents]\n",
        "                    mask &= np.array([v == value for v in values])\n",
        "            valid_indices = valid_indices[mask]\n",
        "            similarities = similarities[mask]\n",
        "\n",
        "        # Obtener top-k\n",
        "        if len(similarities) == 0:\n",
        "            return []\n",
        "\n",
        "        top_indices = np.argsort(similarities)[::-1][:k]\n",
        "        results = []\n",
        "        for idx in top_indices:\n",
        "            actual_idx = valid_indices[idx] if filters else idx\n",
        "            results.append({\n",
        "                'doc_id': self.documents[actual_idx]['id'],\n",
        "                'score': float(similarities[idx]),\n",
        "                'title': self.documents[actual_idx]['title'],\n",
        "                'text': self.documents[actual_idx]['text'],\n",
        "                'source': self.documents[actual_idx]['source'],\n",
        "                'category': self.documents[actual_idx]['category']\n",
        "            })\n",
        "\n",
        "        return results\n",
        "\n",
        "# Crear e indexar en Weaviate simulado\n",
        "mock_weaviate = MockWeaviate()\n",
        "\n",
        "# Generar embeddings para todos los documentos\n",
        "weaviate_embeddings = []\n",
        "for doc in tqdm(docs, desc=\"Indexando en Weaviate\"):\n",
        "    full_text = f\"{doc['title']}. {doc['text']}\"\n",
        "    embedding = embedder.encode(full_text, normalize_embeddings=True)\n",
        "    weaviate_embeddings.append(embedding)\n",
        "\n",
        "mock_weaviate.add_documents(docs, weaviate_embeddings)\n"
      ]
    },
    {
      "cell_type": "markdown",
      "metadata": {
        "id": "-bPo6hnLOavt"
      },
      "source": [
        "## 8. Clases RAG para Ambos Sistemas\n"
      ]
    },
    {
      "cell_type": "code",
      "execution_count": 11,
      "metadata": {
        "colab": {
          "base_uri": "https://localhost:8080/"
        },
        "id": "ib_6A0SzOavt",
        "outputId": "1165792b-9290-4bfd-b150-c06f17cd4f39"
      },
      "outputs": [
        {
          "output_type": "stream",
          "name": "stdout",
          "text": [
            "✅ Clases RAG implementadas\n"
          ]
        }
      ],
      "source": [
        "class QdrantRAG:\n",
        "    def __init__(self, client, collection_name):\n",
        "        self.client = client\n",
        "        self.collection_name = collection_name\n",
        "\n",
        "    def search(self, query: str, k: int = 5, filters: Optional[Dict] = None) -> Tuple[List[Dict], float]:\n",
        "        \"\"\"Búsqueda semántica con filtros opcionales\"\"\"\n",
        "        start_time = time.time()\n",
        "\n",
        "        # Generar embedding de la consulta\n",
        "        query_vector = embedder.encode(query, normalize_embeddings=True).tolist()\n",
        "\n",
        "        # Construir filtros de Qdrant\n",
        "        qdrant_filter = None\n",
        "        if filters:\n",
        "            conditions = []\n",
        "            for key, value in filters.items():\n",
        "                if isinstance(value, tuple) and len(value) == 2:  # Rango de fechas\n",
        "                    # Convert date strings to timestamps for Qdrant filtering\n",
        "                    try:\n",
        "                        start_timestamp = datetime.strptime(value[0], '%Y-%m-%d').timestamp()\n",
        "                        end_timestamp = datetime.strptime(value[1], '%Y-%m-%d').timestamp()\n",
        "                        conditions.append(\n",
        "                            qdrant_models.FieldCondition(\n",
        "                                key=key,\n",
        "                                range=qdrant_models.Range(gte=start_timestamp, lte=end_timestamp)\n",
        "                            )\n",
        "                        )\n",
        "                    except ValueError:\n",
        "                        print(f\"Error: Invalid date format in filter for key '{key}'. Expected YYYY-MM-DD.\")\n",
        "                        continue\n",
        "                else:  # Igualdad exacta\n",
        "                    conditions.append(\n",
        "                        qdrant_models.FieldCondition(\n",
        "                            key=key,\n",
        "                            match=qdrant_models.MatchValue(value=value)\n",
        "                        )\n",
        "                    )\n",
        "            if conditions:\n",
        "                qdrant_filter = qdrant_models.Filter(must=conditions)\n",
        "\n",
        "        # Realizar búsqueda\n",
        "        hits = self.client.query_points(\n",
        "            collection_name=self.collection_name,\n",
        "            query=query_vector,\n",
        "            query_filter=qdrant_filter,\n",
        "            limit=k,\n",
        "            with_payload=True\n",
        "        ).points\n",
        "\n",
        "        search_time = time.time() - start_time\n",
        "\n",
        "        results = []\n",
        "        for hit in hits:\n",
        "            results.append({\n",
        "                \"doc_id\": hit.payload[\"doc_id\"],\n",
        "                \"score\": hit.score,\n",
        "                \"title\": hit.payload[\"title\"],\n",
        "                \"text\": hit.payload[\"text\"],\n",
        "                \"source\": hit.payload[\"source\"],\n",
        "                \"category\": hit.payload[\"category\"]\n",
        "            })\n",
        "\n",
        "        return results, search_time\n",
        "\n",
        "    def query(self, question: str, k: int = 3, filters: Optional[Dict] = None) -> Dict:\n",
        "        \"\"\"Consulta completa RAG: búsqueda + generación\"\"\"\n",
        "        start_time = time.time()\n",
        "\n",
        "        # Búsqueda\n",
        "        search_results, search_time = self.search(question, k=k, filters=filters)\n",
        "\n",
        "        if not search_results:\n",
        "            return {\n",
        "                \"answer\": \"No encontré información relevante.\",\n",
        "                \"sources\": [],\n",
        "                \"search_results\": [],\n",
        "                \"search_time\": search_time,\n",
        "                \"total_time\": time.time() - start_time\n",
        "            }\n",
        "\n",
        "        # Construir contexto\n",
        "        context_parts = []\n",
        "        for result in search_results:\n",
        "            context_parts.append(f\"Título: {result['title']}\\\\nTexto: {result['text']}\")\n",
        "\n",
        "        context = \"\\\\n\\\\n\".join(context_parts)\n",
        "\n",
        "        # Crear prompt\n",
        "        prompt = f\"\"\"Responde la pregunta usando solo la información proporcionada. Sé conciso y preciso.\n",
        "\n",
        "Información:\n",
        "{context}\n",
        "\n",
        "Pregunta: {question}\n",
        "Respuesta:\"\"\"\n",
        "\n",
        "        # Generar respuesta\n",
        "        answer = generate_answer(prompt, max_length=150)\n",
        "\n",
        "        return {\n",
        "            \"answer\": answer,\n",
        "            \"sources\": list(set([r[\"source\"] for r in search_results])),\n",
        "            \"search_results\": search_results,\n",
        "            \"search_time\": search_time,\n",
        "            \"total_time\": time.time() - start_time\n",
        "        }\n",
        "\n",
        "class WeaviateRAG:\n",
        "    def __init__(self, mock_client):\n",
        "        self.client = mock_client\n",
        "\n",
        "    def search(self, query: str, k: int = 5, filters: Optional[Dict] = None) -> Tuple[List[Dict], float]:\n",
        "        \"\"\"Búsqueda semántica con filtros opcionales\"\"\"\n",
        "        start_time = time.time()\n",
        "\n",
        "        # Generar embedding de la consulta\n",
        "        query_vector = embedder.encode(query, normalize_embeddings=True)\n",
        "\n",
        "        # Realizar búsqueda\n",
        "        results = self.client.search(query_vector, k=k, filters=filters)\n",
        "\n",
        "        search_time = time.time() - start_time\n",
        "        return results, search_time\n",
        "\n",
        "    def query(self, question: str, k: int = 3, filters: Optional[Dict] = None) -> Dict:\n",
        "        \"\"\"Consulta completa RAG: búsqueda + generación\"\"\"\n",
        "        start_time = time.time()\n",
        "\n",
        "        # Búsqueda\n",
        "        search_results, search_time = self.search(question, k=k, filters=filters)\n",
        "\n",
        "        if not search_results:\n",
        "            return {\n",
        "                \"answer\": \"No encontré información relevante.\",\n",
        "                \"sources\": [],\n",
        "                \"search_results\": [],\n",
        "                \"search_time\": search_time,\n",
        "                \"total_time\": time.time() - start_time\n",
        "            }\n",
        "\n",
        "        # Construir contexto\n",
        "        context_parts = []\n",
        "        for result in search_results:\n",
        "            context_parts.append(f\"Título: {result['title']}\\\\nTexto: {result['text']}\")\n",
        "\n",
        "        context = \"\\\\n\\\\n\".join(context_parts)\n",
        "\n",
        "        # Crear prompt\n",
        "        prompt = f\"\"\"Responde la pregunta usando solo la información proporcionada. Sé conciso y preciso.\n",
        "\n",
        "Información:\n",
        "{context}\n",
        "\n",
        "Pregunta: {question}\n",
        "Respuesta:\"\"\"\n",
        "\n",
        "        # Generar respuesta\n",
        "        answer = generate_answer(prompt, max_length=150)\n",
        "\n",
        "        return {\n",
        "            \"answer\": answer,\n",
        "            \"sources\": list(set([r[\"source\"] for r in search_results])),\n",
        "            \"search_results\": search_results,\n",
        "            \"search_time\": search_time,\n",
        "            \"total_time\": time.time() - start_time\n",
        "        }\n",
        "\n",
        "# Crear instancias RAG\n",
        "qdrant_rag = QdrantRAG(qdrant_client, QDRANT_COLLECTION)\n",
        "weaviate_rag = WeaviateRAG(mock_weaviate)\n",
        "\n",
        "print(\"✅ Clases RAG implementadas\")"
      ]
    },
    {
      "cell_type": "markdown",
      "metadata": {
        "id": "kJpXiAutOavt"
      },
      "source": [
        "## 9. Evaluación Completa y Comparación\n"
      ]
    },
    {
      "cell_type": "code",
      "execution_count": 12,
      "metadata": {
        "colab": {
          "base_uri": "https://localhost:8080/"
        },
        "id": "mz1jlxUFOavt",
        "outputId": "86d4b09a-83ed-404b-eaf5-be37f09d0ae8"
      },
      "outputs": [
        {
          "output_type": "stream",
          "name": "stdout",
          "text": [
            "🔄 Iniciando evaluación con k=5...\\n\n"
          ]
        },
        {
          "output_type": "stream",
          "name": "stderr",
          "text": [
            "Evaluando Qdrant: 100%|██████████| 10/10 [00:57<00:00,  5.72s/it]\n",
            "Evaluando Weaviate: 100%|██████████| 10/10 [00:36<00:00,  3.64s/it]"
          ]
        },
        {
          "output_type": "stream",
          "name": "stdout",
          "text": [
            "✅ Evaluación completada\n"
          ]
        },
        {
          "output_type": "stream",
          "name": "stderr",
          "text": [
            "\n"
          ]
        }
      ],
      "source": [
        "def evaluate_rag_system(rag_system, system_name: str, test_queries: List[Dict], k: int = 5) -> Dict:\n",
        "    \"\"\"Evalúa un sistema RAG con las métricas definidas\"\"\"\n",
        "    results = {\n",
        "        \"system_name\": system_name,\n",
        "        \"queries\": [],\n",
        "        \"metrics\": {\n",
        "            \"precision_at_k\": [],\n",
        "            \"recall_at_k\": [],\n",
        "            \"ndcg_at_k\": [],\n",
        "            \"search_times\": [],\n",
        "            \"total_times\": []\n",
        "        }\n",
        "    }\n",
        "\n",
        "    for query_data in tqdm(test_queries, desc=f\"Evaluando {system_name}\"):\n",
        "        question = query_data[\"question\"]\n",
        "        relevant_docs = query_data[\"relevant_docs\"]\n",
        "\n",
        "        # Ejecutar consulta\n",
        "        response = rag_system.query(question, k=k)\n",
        "\n",
        "        # Extraer IDs de documentos recuperados\n",
        "        retrieved_ids = [result[\"doc_id\"] for result in response[\"search_results\"]]\n",
        "\n",
        "        # Calcular métricas\n",
        "        p_at_k = precision_at_k(retrieved_ids, relevant_docs, k)\n",
        "        r_at_k = recall_at_k(retrieved_ids, relevant_docs, k)\n",
        "        ndcg = ndcg_at_k(retrieved_ids, relevant_docs, k)\n",
        "\n",
        "        # Obtener tiempos\n",
        "        search_time = response[\"search_time\"]\n",
        "        total_time = response[\"total_time\"]\n",
        "\n",
        "        # Guardar resultados de la consulta\n",
        "        query_result = {\n",
        "            \"question\": question,\n",
        "            \"relevant_docs\": relevant_docs,\n",
        "            \"retrieved_docs\": retrieved_ids,\n",
        "            \"answer\": response[\"answer\"],\n",
        "            \"sources\": response[\"sources\"],\n",
        "            \"precision_at_k\": p_at_k,\n",
        "            \"recall_at_k\": r_at_k,\n",
        "            \"ndcg_at_k\": ndcg,\n",
        "            \"search_time\": search_time,\n",
        "            \"total_time\": total_time\n",
        "        }\n",
        "\n",
        "        results[\"queries\"].append(query_result)\n",
        "        results[\"metrics\"][\"precision_at_k\"].append(p_at_k)\n",
        "        results[\"metrics\"][\"recall_at_k\"].append(r_at_k)\n",
        "        results[\"metrics\"][\"ndcg_at_k\"].append(ndcg)\n",
        "        results[\"metrics\"][\"search_times\"].append(search_time)\n",
        "        results[\"metrics\"][\"total_times\"].append(total_time)\n",
        "\n",
        "    # Calcular promedios\n",
        "    results[\"avg_metrics\"] = {\n",
        "        \"avg_precision_at_k\": np.mean(results[\"metrics\"][\"precision_at_k\"]),\n",
        "        \"avg_recall_at_k\": np.mean(results[\"metrics\"][\"recall_at_k\"]),\n",
        "        \"avg_ndcg_at_k\": np.mean(results[\"metrics\"][\"ndcg_at_k\"]),\n",
        "        \"avg_search_time\": np.mean(results[\"metrics\"][\"search_times\"]),\n",
        "        \"avg_total_time\": np.mean(results[\"metrics\"][\"total_times\"])\n",
        "    }\n",
        "\n",
        "    return results\n",
        "\n",
        "# Ejecutar evaluaciones\n",
        "K = 5\n",
        "print(f\"🔄 Iniciando evaluación con k={K}...\\\\n\")\n",
        "\n",
        "qdrant_results = evaluate_rag_system(qdrant_rag, \"Qdrant\", test_queries, k=K)\n",
        "weaviate_results = evaluate_rag_system(weaviate_rag, \"Weaviate\", test_queries, k=K)\n",
        "\n",
        "print(\"✅ Evaluación completada\")\n"
      ]
    },
    {
      "cell_type": "markdown",
      "metadata": {
        "id": "BQAXYPVNOavt"
      },
      "source": [
        "## 10. Tabla Comparativa de Resultados\n"
      ]
    },
    {
      "cell_type": "code",
      "execution_count": 13,
      "metadata": {
        "colab": {
          "base_uri": "https://localhost:8080/",
          "height": 240
        },
        "id": "zrZHL7M4Oavt",
        "outputId": "b7f92c54-6693-4e76-c1ce-04c46afe7caf"
      },
      "outputs": [
        {
          "output_type": "stream",
          "name": "stdout",
          "text": [
            "📊 TABLA COMPARATIVA - QDRANT VS WEAVIATE\n",
            "================================================================================\n",
            " Sistema   P@5   R@5 nDCG@5 Latencia Búsqueda (ms) Tiempo Total (ms)\n",
            "  Qdrant 0.220 1.000  0.926                   28.0            5713.3\n",
            "Weaviate 0.220 1.000  0.926                    9.0            3639.8\n",
            "================================================================================\n"
          ]
        },
        {
          "output_type": "display_data",
          "data": {
            "text/plain": [
              "\u001b[3m                          Comparación Qdrant vs Weaviate                          \u001b[0m\n",
              "┏━━━━━━━━━━┳━━━━━━━┳━━━━━━━┳━━━━━━━━┳━━━━━━━━━━━━━━━━━━━━━━━━┳━━━━━━━━━━━━━━━━━━━┓\n",
              "┃\u001b[1m \u001b[0m\u001b[1mSistema \u001b[0m\u001b[1m \u001b[0m┃\u001b[1m \u001b[0m\u001b[1m  P@5\u001b[0m\u001b[1m \u001b[0m┃\u001b[1m \u001b[0m\u001b[1m  R@5\u001b[0m\u001b[1m \u001b[0m┃\u001b[1m \u001b[0m\u001b[1mnDCG@5\u001b[0m\u001b[1m \u001b[0m┃\u001b[1m \u001b[0m\u001b[1mLatencia Búsqueda (ms)\u001b[0m\u001b[1m \u001b[0m┃\u001b[1m \u001b[0m\u001b[1mTiempo Total (ms)\u001b[0m\u001b[1m \u001b[0m┃\n",
              "┡━━━━━━━━━━╇━━━━━━━╇━━━━━━━╇━━━━━━━━╇━━━━━━━━━━━━━━━━━━━━━━━━╇━━━━━━━━━━━━━━━━━━━┩\n",
              "│\u001b[36m \u001b[0m\u001b[36mQdrant  \u001b[0m\u001b[36m \u001b[0m│ 0.220 │ 1.000 │  0.926 │                   28.0 │            5713.3 │\n",
              "│\u001b[36m \u001b[0m\u001b[36mWeaviate\u001b[0m\u001b[36m \u001b[0m│ 0.220 │ 1.000 │  0.926 │                    9.0 │            3639.8 │\n",
              "└──────────┴───────┴───────┴────────┴────────────────────────┴───────────────────┘\n"
            ],
            "text/html": [
              "<pre style=\"white-space:pre;overflow-x:auto;line-height:normal;font-family:Menlo,'DejaVu Sans Mono',consolas,'Courier New',monospace\"><span style=\"font-style: italic\">                          Comparación Qdrant vs Weaviate                          </span>\n",
              "┏━━━━━━━━━━┳━━━━━━━┳━━━━━━━┳━━━━━━━━┳━━━━━━━━━━━━━━━━━━━━━━━━┳━━━━━━━━━━━━━━━━━━━┓\n",
              "┃<span style=\"font-weight: bold\"> Sistema  </span>┃<span style=\"font-weight: bold\">   P@5 </span>┃<span style=\"font-weight: bold\">   R@5 </span>┃<span style=\"font-weight: bold\"> nDCG@5 </span>┃<span style=\"font-weight: bold\"> Latencia Búsqueda (ms) </span>┃<span style=\"font-weight: bold\"> Tiempo Total (ms) </span>┃\n",
              "┡━━━━━━━━━━╇━━━━━━━╇━━━━━━━╇━━━━━━━━╇━━━━━━━━━━━━━━━━━━━━━━━━╇━━━━━━━━━━━━━━━━━━━┩\n",
              "│<span style=\"color: #008080; text-decoration-color: #008080\"> Qdrant   </span>│ 0.220 │ 1.000 │  0.926 │                   28.0 │            5713.3 │\n",
              "│<span style=\"color: #008080; text-decoration-color: #008080\"> Weaviate </span>│ 0.220 │ 1.000 │  0.926 │                    9.0 │            3639.8 │\n",
              "└──────────┴───────┴───────┴────────┴────────────────────────┴───────────────────┘\n",
              "</pre>\n"
            ]
          },
          "metadata": {}
        }
      ],
      "source": [
        "# Crear tabla comparativa\n",
        "comparison_df = pd.DataFrame([\n",
        "    {\n",
        "        \"Sistema\": \"Qdrant\",\n",
        "        \"P@5\": f\"{qdrant_results['avg_metrics']['avg_precision_at_k']:.3f}\",\n",
        "        \"R@5\": f\"{qdrant_results['avg_metrics']['avg_recall_at_k']:.3f}\",\n",
        "        \"nDCG@5\": f\"{qdrant_results['avg_metrics']['avg_ndcg_at_k']:.3f}\",\n",
        "        \"Latencia Búsqueda (ms)\": f\"{qdrant_results['avg_metrics']['avg_search_time']*1000:.1f}\",\n",
        "        \"Tiempo Total (ms)\": f\"{qdrant_results['avg_metrics']['avg_total_time']*1000:.1f}\"\n",
        "    },\n",
        "    {\n",
        "        \"Sistema\": \"Weaviate\",\n",
        "        \"P@5\": f\"{weaviate_results['avg_metrics']['avg_precision_at_k']:.3f}\",\n",
        "        \"R@5\": f\"{weaviate_results['avg_metrics']['avg_recall_at_k']:.3f}\",\n",
        "        \"nDCG@5\": f\"{weaviate_results['avg_metrics']['avg_ndcg_at_k']:.3f}\",\n",
        "        \"Latencia Búsqueda (ms)\": f\"{weaviate_results['avg_metrics']['avg_search_time']*1000:.1f}\",\n",
        "        \"Tiempo Total (ms)\": f\"{weaviate_results['avg_metrics']['avg_total_time']*1000:.1f}\"\n",
        "    }\n",
        "])\n",
        "\n",
        "print(\"📊 TABLA COMPARATIVA - QDRANT VS WEAVIATE\")\n",
        "print(\"=\" * 80)\n",
        "print(comparison_df.to_string(index=False))\n",
        "print(\"=\" * 80)\n",
        "\n",
        "# Mostrar tabla con Rich para mejor visualización\n",
        "table = Table(title=\"Comparación Qdrant vs Weaviate\")\n",
        "table.add_column(\"Sistema\", style=\"cyan\")\n",
        "table.add_column(\"P@5\", justify=\"right\")\n",
        "table.add_column(\"R@5\", justify=\"right\")\n",
        "table.add_column(\"nDCG@5\", justify=\"right\")\n",
        "table.add_column(\"Latencia Búsqueda (ms)\", justify=\"right\")\n",
        "table.add_column(\"Tiempo Total (ms)\", justify=\"right\")\n",
        "\n",
        "for _, row in comparison_df.iterrows():\n",
        "    table.add_row(\n",
        "        row[\"Sistema\"],\n",
        "        row[\"P@5\"],\n",
        "        row[\"R@5\"],\n",
        "        row[\"nDCG@5\"],\n",
        "        row[\"Latencia Búsqueda (ms)\"],\n",
        "        row[\"Tiempo Total (ms)\"]\n",
        "    )\n",
        "\n",
        "console.print(table)\n"
      ]
    },
    {
      "cell_type": "markdown",
      "metadata": {
        "id": "mPej1PKpOavt"
      },
      "source": [
        "## 11. Análisis Comparativo\n"
      ]
    },
    {
      "cell_type": "code",
      "execution_count": 14,
      "metadata": {
        "colab": {
          "base_uri": "https://localhost:8080/"
        },
        "id": "6LuMKgvxOavu",
        "outputId": "0754c2c1-d26d-43a1-f1ba-343875056371"
      },
      "outputs": [
        {
          "output_type": "stream",
          "name": "stdout",
          "text": [
            "\n",
            "## ANÁLISIS COMPARATIVO: QDRANT VS WEAVIATE\n",
            "\n",
            "### Métricas de Calidad:\n",
            "- **Precision@5**: Qdrant (0.220) vs Weaviate (0.220)\n",
            "- **Recall@5**: Qdrant (1.000) vs Weaviate (1.000)\n",
            "- **nDCG@5**: Qdrant (0.926) vs Weaviate (0.926)\n",
            "\n",
            "### Rendimiento:\n",
            "- **Latencia de Búsqueda**: Qdrant (28.0ms) vs Weaviate (9.0ms)\n",
            "- **Tiempo Total**: Qdrant (5713.3ms) vs Weaviate (3639.8ms)\n",
            "\n",
            "### Conclusiones:\n",
            "\n",
            "**Calidad de Resultados:**\n",
            "Ambos sistemas muestran rendimientos similares en términos de calidad, lo cual es esperado dado que:\n",
            "- Utilizan los mismos embeddings (all-MiniLM-L6-v2)\n",
            "- Procesan el mismo corpus de documentos\n",
            "- Implementan búsqueda por similitud coseno\n",
            "\n",
            "**Rendimiento y Latencia:**\n",
            "Weaviate muestra mejor rendimiento en búsqueda.\n",
            "- Qdrant utiliza índices HNSW optimizados para consultas rápidas\n",
            "- Weaviate (simulado) tiene overhead mínimo pero en implementación real sería diferente\n",
            "\n",
            "**Facilidad de Uso:**\n",
            "- **Qdrant**: API más simple, configuración directa, ideal para casos de uso específicos\n",
            "- **Weaviate**: Esquemas más ricos, mejor manejo de metadatos complejos, GraphQL integrado\n",
            "\n",
            "**Recomendación:**\n",
            "- **Qdrant**: Mejor para aplicaciones que priorizan velocidad y simplicidad\n",
            "- **Weaviate**: Mejor para aplicaciones que requieren esquemas complejos y consultas avanzadas\n",
            "\n"
          ]
        }
      ],
      "source": [
        "# Análisis detallado\n",
        "analysis = f\"\"\"\n",
        "## ANÁLISIS COMPARATIVO: QDRANT VS WEAVIATE\n",
        "\n",
        "### Métricas de Calidad:\n",
        "- **Precision@5**: Qdrant ({qdrant_results['avg_metrics']['avg_precision_at_k']:.3f}) vs Weaviate ({weaviate_results['avg_metrics']['avg_precision_at_k']:.3f})\n",
        "- **Recall@5**: Qdrant ({qdrant_results['avg_metrics']['avg_recall_at_k']:.3f}) vs Weaviate ({weaviate_results['avg_metrics']['avg_recall_at_k']:.3f})\n",
        "- **nDCG@5**: Qdrant ({qdrant_results['avg_metrics']['avg_ndcg_at_k']:.3f}) vs Weaviate ({weaviate_results['avg_metrics']['avg_ndcg_at_k']:.3f})\n",
        "\n",
        "### Rendimiento:\n",
        "- **Latencia de Búsqueda**: Qdrant ({qdrant_results['avg_metrics']['avg_search_time']*1000:.1f}ms) vs Weaviate ({weaviate_results['avg_metrics']['avg_search_time']*1000:.1f}ms)\n",
        "- **Tiempo Total**: Qdrant ({qdrant_results['avg_metrics']['avg_total_time']*1000:.1f}ms) vs Weaviate ({weaviate_results['avg_metrics']['avg_total_time']*1000:.1f}ms)\n",
        "\n",
        "### Conclusiones:\n",
        "\n",
        "**Calidad de Resultados:**\n",
        "Ambos sistemas muestran rendimientos similares en términos de calidad, lo cual es esperado dado que:\n",
        "- Utilizan los mismos embeddings (all-MiniLM-L6-v2)\n",
        "- Procesan el mismo corpus de documentos\n",
        "- Implementan búsqueda por similitud coseno\n",
        "\n",
        "**Rendimiento y Latencia:**\n",
        "{'Qdrant' if qdrant_results['avg_metrics']['avg_search_time'] < weaviate_results['avg_metrics']['avg_search_time'] else 'Weaviate'} muestra mejor rendimiento en búsqueda.\n",
        "- Qdrant utiliza índices HNSW optimizados para consultas rápidas\n",
        "- Weaviate (simulado) tiene overhead mínimo pero en implementación real sería diferente\n",
        "\n",
        "**Facilidad de Uso:**\n",
        "- **Qdrant**: API más simple, configuración directa, ideal para casos de uso específicos\n",
        "- **Weaviate**: Esquemas más ricos, mejor manejo de metadatos complejos, GraphQL integrado\n",
        "\n",
        "**Recomendación:**\n",
        "- **Qdrant**: Mejor para aplicaciones que priorizan velocidad y simplicidad\n",
        "- **Weaviate**: Mejor para aplicaciones que requieren esquemas complejos y consultas avanzadas\n",
        "\"\"\"\n",
        "\n",
        "print(analysis)\n"
      ]
    },
    {
      "cell_type": "markdown",
      "metadata": {
        "id": "IIgX4fDQOavu"
      },
      "source": [
        "## 12. Bonus: Filtrado por Metadatos y Consultas Híbridas\n"
      ]
    },
    {
      "cell_type": "code",
      "execution_count": 15,
      "metadata": {
        "colab": {
          "base_uri": "https://localhost:8080/"
        },
        "id": "gmNbiMq2Oavu",
        "outputId": "6ed9471f-7ede-46fe-8815-89951c1bc491"
      },
      "outputs": [
        {
          "output_type": "stream",
          "name": "stdout",
          "text": [
            "🎯 BONUS: Ejemplos de Filtrado por Metadatos y Consultas Híbridas\\n\n",
            "============================================================\n",
            "EJEMPLO 1: Búsqueda filtrada por categoría 'medicina'\n",
            "============================================================\n",
            "\\n🔹 QDRANT:\n",
            "Pregunta: ¿Qué aplicaciones tiene la tecnología en salud?\n",
            "Filtro: {'category': 'medicina'}\n",
            "Respuesta: La IA is applied in diagnostics for imagens, analogues of genomas and temprana de enfermedades. The algorithms of aprendizaje automático can identify patrons in radiografas, resonancias magnéticas and tomografas computarizadas.\n",
            "Documentos encontrados: [17, 6, 1]\n",
            "Fuentes: ['Revista Mente Abierta', 'Revista Salud Digital', 'Psicología Clínica']\n",
            "\\n🔹 WEAVIATE:\n",
            "Pregunta: ¿Qué aplicaciones tiene la tecnología en salud?\n",
            "Filtro: {'category': 'medicina'}\n",
            "Respuesta: La IA is applied in diagnostics for imagens, analogues of genomas and temprana de enfermedades. The algorithms of aprendizaje automático can identify patrons in radiografas, resonancias magnéticas and tomografas computarizadas.\n",
            "Documentos encontrados: [17, 6, 1]\n",
            "Fuentes: ['Revista Mente Abierta', 'Revista Salud Digital', 'Psicología Clínica']\n"
          ]
        }
      ],
      "source": [
        "print(\"🎯 BONUS: Ejemplos de Filtrado por Metadatos y Consultas Híbridas\\\\n\")\n",
        "\n",
        "# Ejemplo 1: Filtro por categoría\n",
        "print(\"=\" * 60)\n",
        "print(\"EJEMPLO 1: Búsqueda filtrada por categoría 'medicina'\")\n",
        "print(\"=\" * 60)\n",
        "\n",
        "question1 = \"¿Qué aplicaciones tiene la tecnología en salud?\"\n",
        "filters1 = {\"category\": \"medicina\"}\n",
        "\n",
        "# Qdrant\n",
        "print(\"\\\\n🔹 QDRANT:\")\n",
        "qdrant_filtered = qdrant_rag.query(question1, k=3, filters=filters1)\n",
        "print(f\"Pregunta: {question1}\")\n",
        "print(f\"Filtro: {filters1}\")\n",
        "print(f\"Respuesta: {qdrant_filtered['answer']}\")\n",
        "print(f\"Documentos encontrados: {[r['doc_id'] for r in qdrant_filtered['search_results']]}\")\n",
        "print(f\"Fuentes: {qdrant_filtered['sources']}\")\n",
        "\n",
        "# Weaviate\n",
        "print(\"\\\\n🔹 WEAVIATE:\")\n",
        "weaviate_filtered = weaviate_rag.query(question1, k=3, filters=filters1)\n",
        "print(f\"Pregunta: {question1}\")\n",
        "print(f\"Filtro: {filters1}\")\n",
        "print(f\"Respuesta: {weaviate_filtered['answer']}\")\n",
        "print(f\"Documentos encontrados: {[r['doc_id'] for r in weaviate_filtered['search_results']]}\")\n",
        "print(f\"Fuentes: {weaviate_filtered['sources']}\")\n"
      ]
    },
    {
      "cell_type": "code",
      "execution_count": 16,
      "metadata": {
        "colab": {
          "base_uri": "https://localhost:8080/"
        },
        "id": "hf-6kx2QOavu",
        "outputId": "379aaebe-4206-4d6c-8000-edd710cf7318"
      },
      "outputs": [
        {
          "output_type": "stream",
          "name": "stdout",
          "text": [
            "\\n============================================================\n",
            "EJEMPLO 2: Búsqueda filtrada por rango de fechas (2025)\n",
            "============================================================\n",
            "\\n🔹 QDRANT:\n",
            "Pregunta: ¿Cuáles son las tendencias tecnológicas recientes?\n",
            "Filtro: {'date': ('2025-01-01', '2025-12-31')}\n",
            "Respuesta: No encontré información relevante.\n",
            "Documentos encontrados: []\n",
            "Fechas: []\n",
            "Fuentes: []\n",
            "\\n🔹 WEAVIATE:\n",
            "Pregunta: ¿Cuáles son las tendencias tecnológicas recientes?\n",
            "Filtro: {'date': ('2025-01-01', '2025-12-31')}\n",
            "Respuesta: nTexto: Importance de los policadoresnTexto: Abejas, mariposas y aves ayudan en la reproducción de plantas y producción de alimentos. Sin policadores, muchos cultivos no podan\n",
            "Documentos encontrados: [23, 8, 30, 20, 26]\n",
            "Fechas: ['2025-07-17', '2025-06-01', '2025-08-01', '2025-05-01', '2025-03-10']\n",
            "Fuentes: ['Tech Diario', 'Economía Sostenible', 'Aprendizaje Automático Hoy', 'Biodiversidad Global', 'Seguridad Digital Hoy']\n"
          ]
        }
      ],
      "source": [
        "# Ejemplo 2: Filtro por rango de fechas\n",
        "print(\"\\\\n\" + \"=\" * 60)\n",
        "print(\"EJEMPLO 2: Búsqueda filtrada por rango de fechas (2025)\")\n",
        "print(\"=\" * 60)\n",
        "\n",
        "question2 = \"¿Cuáles son las tendencias tecnológicas recientes?\"\n",
        "filters2 = {\"date\": (\"2025-01-01\", \"2025-12-31\")}\n",
        "\n",
        "# Qdrant\n",
        "print(\"\\\\n🔹 QDRANT:\")\n",
        "qdrant_date_filtered = qdrant_rag.query(question2, k=5, filters=filters2)\n",
        "print(f\"Pregunta: {question2}\")\n",
        "print(f\"Filtro: {filters2}\")\n",
        "print(f\"Respuesta: {qdrant_date_filtered['answer']}\")\n",
        "print(f\"Documentos encontrados: {[r['doc_id'] for r in qdrant_date_filtered['search_results']]}\")\n",
        "print(f\"Fechas: {[docs[r['doc_id']-1]['date'] for r in qdrant_date_filtered['search_results']]}\")\n",
        "print(f\"Fuentes: {qdrant_date_filtered['sources']}\")\n",
        "\n",
        "# Weaviate\n",
        "print(\"\\\\n🔹 WEAVIATE:\")\n",
        "weaviate_date_filtered = weaviate_rag.query(question2, k=5, filters=filters2)\n",
        "print(f\"Pregunta: {question2}\")\n",
        "print(f\"Filtro: {filters2}\")\n",
        "print(f\"Respuesta: {weaviate_date_filtered['answer']}\")\n",
        "print(f\"Documentos encontrados: {[r['doc_id'] for r in weaviate_date_filtered['search_results']]}\")\n",
        "print(f\"Fechas: {[docs[r['doc_id']-1]['date'] for r in weaviate_date_filtered['search_results']]}\")\n",
        "print(f\"Fuentes: {weaviate_date_filtered['sources']}\")\n"
      ]
    },
    {
      "cell_type": "code",
      "execution_count": 17,
      "metadata": {
        "colab": {
          "base_uri": "https://localhost:8080/"
        },
        "id": "ri-AyAIvOavu",
        "outputId": "84634927-6a8d-4f5f-bcc7-4fa4fc3ba442"
      },
      "outputs": [
        {
          "output_type": "stream",
          "name": "stdout",
          "text": [
            "\\n============================================================\n",
            "EJEMPLO 3: Consulta híbrida (texto + categoría)\n",
            "============================================================\n",
            "\\n🔹 QDRANT:\n",
            "Pregunta: ¿Qué información hay sobre salud?\n",
            "Filtro: {'category': 'salud'}\n",
            "Respuesta: Ttulo: Alimentos ricos en fibranTexto: Legumbres, frutas, cereales integrales y semillas favorecen la digestión y la salud intestinal. Una dieta rica en fibra puede prevenir enfermedades cardiovasculares.nnTtulo: Ventajas del ejercicio regularnTexto: Reduce el riesgo de enfermedades, mejora el estado de ánimo y fortalece\n",
            "Documentos encontrados: [21, 27, 3]\n",
            "Categorías: ['salud', 'salud', 'salud']\n",
            "Fuentes: ['Salud Activa', 'Portal Nutrición y Vida', 'Guía Nutricional']\n",
            "\\n🔹 WEAVIATE:\n",
            "Pregunta: ¿Qué información hay sobre salud?\n",
            "Filtro: {'category': 'salud'}\n",
            "Respuesta: Ttulo: Alimentos ricos en fibranTexto: Legumbres, frutas, cereales integrales y semillas favorecen la digestión y la salud intestinal. Una dieta rica en fibra puede prevenir enfermedades cardiovasculares.nnTtulo: Ventajas del ejercicio regularnTexto: Reduce el riesgo de enfermedades, mejora el estado de ánimo y fortalece\n",
            "Documentos encontrados: [21, 27, 3]\n",
            "Categorías: ['salud', 'salud', 'salud']\n",
            "Fuentes: ['Salud Activa', 'Portal Nutrición y Vida', 'Guía Nutricional']\n"
          ]
        }
      ],
      "source": [
        "# Ejemplo 3: Consulta híbrida (texto + múltiples filtros)\n",
        "print(\"\\\\n\" + \"=\" * 60)\n",
        "print(\"EJEMPLO 3: Consulta híbrida (texto + categoría)\")\n",
        "print(\"=\" * 60)\n",
        "\n",
        "question3 = \"¿Qué información hay sobre salud?\"\n",
        "filters3 = {\"category\": \"salud\"}  # Solo documentos de categoría salud\n",
        "\n",
        "# Qdrant\n",
        "print(\"\\\\n🔹 QDRANT:\")\n",
        "qdrant_hybrid = qdrant_rag.query(question3, k=3, filters=filters3)\n",
        "print(f\"Pregunta: {question3}\")\n",
        "print(f\"Filtro: {filters3}\")\n",
        "print(f\"Respuesta: {qdrant_hybrid['answer']}\")\n",
        "print(f\"Documentos encontrados: {[r['doc_id'] for r in qdrant_hybrid['search_results']]}\")\n",
        "print(f\"Categorías: {[r['category'] for r in qdrant_hybrid['search_results']]}\")\n",
        "print(f\"Fuentes: {qdrant_hybrid['sources']}\")\n",
        "\n",
        "# Weaviate\n",
        "print(\"\\\\n🔹 WEAVIATE:\")\n",
        "weaviate_hybrid = weaviate_rag.query(question3, k=3, filters=filters3)\n",
        "print(f\"Pregunta: {question3}\")\n",
        "print(f\"Filtro: {filters3}\")\n",
        "print(f\"Respuesta: {weaviate_hybrid['answer']}\")\n",
        "print(f\"Documentos encontrados: {[r['doc_id'] for r in weaviate_hybrid['search_results']]}\")\n",
        "print(f\"Categorías: {[r['category'] for r in weaviate_hybrid['search_results']]}\")\n",
        "print(f\"Fuentes: {weaviate_hybrid['sources']}\")\n"
      ]
    }
  ],
  "metadata": {
    "language_info": {
      "name": "python"
    },
    "colab": {
      "provenance": [],
      "gpuType": "T4"
    },
    "accelerator": "GPU",
    "kernelspec": {
      "name": "python3",
      "display_name": "Python 3"
    }
  },
  "nbformat": 4,
  "nbformat_minor": 0
}